{
 "cells": [
  {
   "cell_type": "markdown",
   "metadata": {},
   "source": [
    "# Read complex json in python dataframe"
   ]
  },
  {
   "cell_type": "code",
   "execution_count": 26,
   "metadata": {},
   "outputs": [],
   "source": [
    "import pandas as pd\n",
    "import simplejson as json"
   ]
  },
  {
   "cell_type": "code",
   "execution_count": 27,
   "metadata": {},
   "outputs": [],
   "source": [
    "#Load json from file\n",
    "with open(\"Planets.json\", \"r\") as read_file:\n",
    "    planetdata = json.load(read_file)"
   ]
  },
  {
   "cell_type": "code",
   "execution_count": 28,
   "metadata": {},
   "outputs": [
    {
     "name": "stdout",
     "output_type": "stream",
     "text": [
      "{'Datacollectiondate': '07/25/2019 12:00:00 AM', 'Category': {'Name': 'Planets', 'Series': 1, 'Belongsto': 'SolarSystem', 'TotalCount': '8', 'PlanetDetail': [{'PlanetName': 'Mercury', 'radius': '2439.7km', 'position': '1', 'relativetosun': 'inner'}, {'PlanetName': 'Venus', 'radius': '6051.8km', 'position': '2', 'relativetosun': 'inner'}, {'PlanetName': 'Earth', 'radius': '6371km', 'position': '3', 'relativetosun': 'inner'}, {'PlanetName': 'Mars', 'radius': '3389.5km', 'position': '4', 'relativetosun': 'inner'}, {'PlanetName': 'Jupiter', 'radius': '69911km', 'position': '5', 'relativetosun': 'outer'}, {'PlanetName': 'Saturn', 'radius': '58232km', 'position': '6', 'relativetosun': 'outer'}, {'PlanetName': 'Uranus', 'radius': '25362km', 'position': '7', 'relativetosun': 'outer'}, {'PlanetName': 'Neptune', 'radius': '24622km', 'position': '8', 'relativetosun': 'outer'}]}}\n"
     ]
    }
   ],
   "source": [
    "print(planetdata)"
   ]
  },
  {
   "cell_type": "markdown",
   "metadata": {},
   "source": [
    "# json reading using list"
   ]
  },
  {
   "cell_type": "code",
   "execution_count": 29,
   "metadata": {
    "scrolled": true
   },
   "outputs": [
    {
     "data": {
      "text/html": [
       "<div>\n",
       "<style scoped>\n",
       "    .dataframe tbody tr th:only-of-type {\n",
       "        vertical-align: middle;\n",
       "    }\n",
       "\n",
       "    .dataframe tbody tr th {\n",
       "        vertical-align: top;\n",
       "    }\n",
       "\n",
       "    .dataframe thead th {\n",
       "        text-align: right;\n",
       "    }\n",
       "</style>\n",
       "<table border=\"1\" class=\"dataframe\">\n",
       "  <thead>\n",
       "    <tr style=\"text-align: right;\">\n",
       "      <th></th>\n",
       "      <th>category</th>\n",
       "      <th>planetName</th>\n",
       "      <th>planetRadius</th>\n",
       "      <th>planetPosition</th>\n",
       "    </tr>\n",
       "  </thead>\n",
       "  <tbody>\n",
       "    <tr>\n",
       "      <th>0</th>\n",
       "      <td>Planets</td>\n",
       "      <td>Mercury</td>\n",
       "      <td>2439.7km</td>\n",
       "      <td>1</td>\n",
       "    </tr>\n",
       "    <tr>\n",
       "      <th>1</th>\n",
       "      <td>Planets</td>\n",
       "      <td>Venus</td>\n",
       "      <td>6051.8km</td>\n",
       "      <td>2</td>\n",
       "    </tr>\n",
       "    <tr>\n",
       "      <th>2</th>\n",
       "      <td>Planets</td>\n",
       "      <td>Earth</td>\n",
       "      <td>6371km</td>\n",
       "      <td>3</td>\n",
       "    </tr>\n",
       "    <tr>\n",
       "      <th>3</th>\n",
       "      <td>Planets</td>\n",
       "      <td>Mars</td>\n",
       "      <td>3389.5km</td>\n",
       "      <td>4</td>\n",
       "    </tr>\n",
       "    <tr>\n",
       "      <th>4</th>\n",
       "      <td>Planets</td>\n",
       "      <td>Jupiter</td>\n",
       "      <td>69911km</td>\n",
       "      <td>5</td>\n",
       "    </tr>\n",
       "    <tr>\n",
       "      <th>5</th>\n",
       "      <td>Planets</td>\n",
       "      <td>Saturn</td>\n",
       "      <td>58232km</td>\n",
       "      <td>6</td>\n",
       "    </tr>\n",
       "    <tr>\n",
       "      <th>6</th>\n",
       "      <td>Planets</td>\n",
       "      <td>Uranus</td>\n",
       "      <td>25362km</td>\n",
       "      <td>7</td>\n",
       "    </tr>\n",
       "    <tr>\n",
       "      <th>7</th>\n",
       "      <td>Planets</td>\n",
       "      <td>Neptune</td>\n",
       "      <td>24622km</td>\n",
       "      <td>8</td>\n",
       "    </tr>\n",
       "  </tbody>\n",
       "</table>\n",
       "</div>"
      ],
      "text/plain": [
       "  category planetName planetRadius planetPosition\n",
       "0  Planets    Mercury     2439.7km              1\n",
       "1  Planets      Venus     6051.8km              2\n",
       "2  Planets      Earth       6371km              3\n",
       "3  Planets       Mars     3389.5km              4\n",
       "4  Planets    Jupiter      69911km              5\n",
       "5  Planets     Saturn      58232km              6\n",
       "6  Planets     Uranus      25362km              7\n",
       "7  Planets    Neptune      24622km              8"
      ]
     },
     "execution_count": 29,
     "metadata": {},
     "output_type": "execute_result"
    }
   ],
   "source": [
    "#json reading using list\n",
    "pcount = int(planetdata['Category']['TotalCount']) #get total number of planet count\n",
    "\n",
    "Planets = list()\n",
    "category=list()\n",
    "planetName = list()\n",
    "planetRadius = list()\n",
    "planetPosition = list()\n",
    "for i in range(pcount):\n",
    "    category.append(planetdata['Category']['Name'])\n",
    "    planetName.append(planetdata['Category']['PlanetDetail'][i]['PlanetName'])\n",
    "    planetRadius.append(planetdata['Category']['PlanetDetail'][i]['radius'])\n",
    "    planetPosition.append(planetdata['Category']['PlanetDetail'][i]['position'])\n",
    "    \n",
    "\n",
    "#Creating dictionary\n",
    "Planets={}\n",
    "Planets[\"category\"] = category \n",
    "Planets[\"planetName\"] = planetName \n",
    "Planets[\"planetRadius\"] = planetRadius \n",
    "Planets[\"planetPosition\"] = planetPosition \n",
    " \n",
    "\n",
    "df = pd.DataFrame(Planets)\n",
    "df.head(10)\n"
   ]
  },
  {
   "cell_type": "markdown",
   "metadata": {},
   "source": [
    "# json reading using dictionary"
   ]
  },
  {
   "cell_type": "code",
   "execution_count": 30,
   "metadata": {
    "scrolled": true
   },
   "outputs": [
    {
     "data": {
      "text/html": [
       "<div>\n",
       "<style scoped>\n",
       "    .dataframe tbody tr th:only-of-type {\n",
       "        vertical-align: middle;\n",
       "    }\n",
       "\n",
       "    .dataframe tbody tr th {\n",
       "        vertical-align: top;\n",
       "    }\n",
       "\n",
       "    .dataframe thead th {\n",
       "        text-align: right;\n",
       "    }\n",
       "</style>\n",
       "<table border=\"1\" class=\"dataframe\">\n",
       "  <thead>\n",
       "    <tr style=\"text-align: right;\">\n",
       "      <th></th>\n",
       "      <th>category</th>\n",
       "      <th>planetName</th>\n",
       "      <th>planetRadius</th>\n",
       "      <th>planetPosition</th>\n",
       "    </tr>\n",
       "  </thead>\n",
       "  <tbody>\n",
       "    <tr>\n",
       "      <th>0</th>\n",
       "      <td>Planets</td>\n",
       "      <td>Mercury</td>\n",
       "      <td>2439.7km</td>\n",
       "      <td>1</td>\n",
       "    </tr>\n",
       "    <tr>\n",
       "      <th>1</th>\n",
       "      <td>Planets</td>\n",
       "      <td>Venus</td>\n",
       "      <td>6051.8km</td>\n",
       "      <td>2</td>\n",
       "    </tr>\n",
       "    <tr>\n",
       "      <th>2</th>\n",
       "      <td>Planets</td>\n",
       "      <td>Earth</td>\n",
       "      <td>6371km</td>\n",
       "      <td>3</td>\n",
       "    </tr>\n",
       "    <tr>\n",
       "      <th>3</th>\n",
       "      <td>Planets</td>\n",
       "      <td>Mars</td>\n",
       "      <td>3389.5km</td>\n",
       "      <td>4</td>\n",
       "    </tr>\n",
       "    <tr>\n",
       "      <th>4</th>\n",
       "      <td>Planets</td>\n",
       "      <td>Jupiter</td>\n",
       "      <td>69911km</td>\n",
       "      <td>5</td>\n",
       "    </tr>\n",
       "    <tr>\n",
       "      <th>5</th>\n",
       "      <td>Planets</td>\n",
       "      <td>Saturn</td>\n",
       "      <td>58232km</td>\n",
       "      <td>6</td>\n",
       "    </tr>\n",
       "    <tr>\n",
       "      <th>6</th>\n",
       "      <td>Planets</td>\n",
       "      <td>Uranus</td>\n",
       "      <td>25362km</td>\n",
       "      <td>7</td>\n",
       "    </tr>\n",
       "    <tr>\n",
       "      <th>7</th>\n",
       "      <td>Planets</td>\n",
       "      <td>Neptune</td>\n",
       "      <td>24622km</td>\n",
       "      <td>8</td>\n",
       "    </tr>\n",
       "  </tbody>\n",
       "</table>\n",
       "</div>"
      ],
      "text/plain": [
       "  category planetName planetRadius planetPosition\n",
       "0  Planets    Mercury     2439.7km              1\n",
       "1  Planets      Venus     6051.8km              2\n",
       "2  Planets      Earth       6371km              3\n",
       "3  Planets       Mars     3389.5km              4\n",
       "4  Planets    Jupiter      69911km              5\n",
       "5  Planets     Saturn      58232km              6\n",
       "6  Planets     Uranus      25362km              7\n",
       "7  Planets    Neptune      24622km              8"
      ]
     },
     "execution_count": 30,
     "metadata": {},
     "output_type": "execute_result"
    }
   ],
   "source": [
    "#json reading using dictionary\n",
    "pcount = int(planetdata['Category']['TotalCount']) #get total number of planet count\n",
    "Planets={}\n",
    "Planets[\"category\"] = [] \n",
    "Planets[\"planetName\"] = [] \n",
    "Planets[\"planetRadius\"] =[]\n",
    "Planets[\"planetPosition\"] = []\n",
    "\n",
    "for i in range(pcount):\n",
    "    Planets[\"category\"].append(planetdata['Category']['Name'])\n",
    "    Planets[\"planetName\"].append(planetdata['Category']['PlanetDetail'][i]['PlanetName'])\n",
    "    Planets[\"planetRadius\"].append(planetdata['Category']['PlanetDetail'][i]['radius'])\n",
    "    Planets[\"planetPosition\"].append(planetdata['Category']['PlanetDetail'][i]['position'])\n",
    "    \n",
    "df2 = pd.DataFrame(Planets)\n",
    "df2.head(10)"
   ]
  },
  {
   "cell_type": "code",
   "execution_count": null,
   "metadata": {},
   "outputs": [],
   "source": []
  }
 ],
 "metadata": {
  "kernelspec": {
   "display_name": "Python 3",
   "language": "python",
   "name": "python3"
  },
  "language_info": {
   "codemirror_mode": {
    "name": "ipython",
    "version": 3
   },
   "file_extension": ".py",
   "mimetype": "text/x-python",
   "name": "python",
   "nbconvert_exporter": "python",
   "pygments_lexer": "ipython3",
   "version": "3.7.3"
  }
 },
 "nbformat": 4,
 "nbformat_minor": 2
}
